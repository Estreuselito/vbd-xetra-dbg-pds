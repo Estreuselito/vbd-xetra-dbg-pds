{
 "cells": [
  {
   "cell_type": "markdown",
   "id": "brilliant-warehouse",
   "metadata": {},
   "source": [
    "# data enrichment"
   ]
  },
  {
   "cell_type": "code",
   "execution_count": null,
   "id": "unnecessary-conflict",
   "metadata": {},
   "outputs": [],
   "source": [
    "# importing \n",
    "import pandas as pd"
   ]
  },
  {
   "cell_type": "code",
   "execution_count": null,
   "id": "underlying-capitol",
   "metadata": {},
   "outputs": [],
   "source": [
    "# load full XETRA dataset\n",
    "df_full = pd.read_csv(\"../data/07_17_to_01_21_full.csv\")"
   ]
  },
  {
   "cell_type": "code",
   "execution_count": null,
   "id": "optimum-contents",
   "metadata": {},
   "outputs": [],
   "source": [
    "df_full.head()"
   ]
  },
  {
   "cell_type": "code",
   "execution_count": null,
   "id": "artificial-gibraltar",
   "metadata": {},
   "outputs": [],
   "source": [
    "# load ticker and industry/sector mapping\n",
    "df_mapping = pd.read_csv(\"../data/ticker_sector_industry_mapping.csv\")\n",
    "df_mapping"
   ]
  },
  {
   "cell_type": "code",
   "execution_count": null,
   "id": "capital-attack",
   "metadata": {},
   "outputs": [],
   "source": [
    "# proof of conpect using first 10 rows\n",
    "df_test_data = df_full[0:10]\n",
    "df_test_map = df_mapping[:10]"
   ]
  },
  {
   "cell_type": "code",
   "execution_count": null,
   "id": "fifty-converter",
   "metadata": {},
   "outputs": [],
   "source": [
    "# rename ticker column to original name in order to allow for left join\n",
    "df_test_map.rename(columns = {\"ticker\": \"Mnemonic\"}, inplace = True)"
   ]
  },
  {
   "cell_type": "code",
   "execution_count": null,
   "id": "searching-forum",
   "metadata": {},
   "outputs": [],
   "source": [
    "df_test_data.merge(df_test_map, how = \"left\", on=\"Mnemonic\")"
   ]
  },
  {
   "cell_type": "code",
   "execution_count": null,
   "id": "pretty-leave",
   "metadata": {},
   "outputs": [],
   "source": [
    "# rename column of full mapping\n",
    "df_mapping.rename(columns = {\"ticker\": \"Mnemonic\"}, inplace = True)"
   ]
  },
  {
   "cell_type": "code",
   "execution_count": null,
   "id": "satisfactory-profile",
   "metadata": {},
   "outputs": [],
   "source": [
    "# merge full datas\n",
    "df_enriched = df_full.merge(df_mapping, how = \"left\", on=\"Mnemonic\")"
   ]
  },
  {
   "cell_type": "code",
   "execution_count": null,
   "id": "stuck-breakdown",
   "metadata": {},
   "outputs": [],
   "source": [
    "# inspect NaNs\n",
    "df_enriched.isna().sum()"
   ]
  },
  {
   "cell_type": "code",
   "execution_count": null,
   "id": "welsh-match",
   "metadata": {},
   "outputs": [],
   "source": [
    "# quick look into most popular sectors\n",
    "df_enriched[\"sector\"].value_counts()"
   ]
  },
  {
   "cell_type": "code",
   "execution_count": null,
   "id": "increased-thread",
   "metadata": {},
   "outputs": [],
   "source": [
    "# quick look into most popular industries\n",
    "df_enriched[\"industry\"].value_counts()"
   ]
  },
  {
   "cell_type": "code",
   "execution_count": null,
   "id": "round-royalty",
   "metadata": {},
   "outputs": [],
   "source": [
    "# save enriched dataset\n",
    "df_enriched.to_csv(\"../data/07_17_to_01_21_full_enriched.csv\", index = None)"
   ]
  },
  {
   "cell_type": "code",
   "execution_count": null,
   "id": "printable-causing",
   "metadata": {},
   "outputs": [],
   "source": [
    "# test loading enriched dataset\n",
    "df_enriched_loaded = pd.read_csv(\"../data/07_17_to_01_21_full_enriched.csv\")"
   ]
  },
  {
   "cell_type": "code",
   "execution_count": null,
   "id": "specified-globe",
   "metadata": {},
   "outputs": [],
   "source": [
    "# inspect loaded df\n",
    "df_enriched_loaded.head()"
   ]
  }
 ],
 "metadata": {
  "kernelspec": {
   "display_name": "Python [conda env:vbd_env] *",
   "language": "python",
   "name": "conda-env-vbd_env-py"
  },
  "language_info": {
   "codemirror_mode": {
    "name": "ipython",
    "version": 3
   },
   "file_extension": ".py",
   "mimetype": "text/x-python",
   "name": "python",
   "nbconvert_exporter": "python",
   "pygments_lexer": "ipython3",
   "version": "3.7.9"
  }
 },
 "nbformat": 4,
 "nbformat_minor": 5
}
