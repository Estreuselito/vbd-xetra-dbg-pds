{
 "cells": [
  {
   "cell_type": "markdown",
   "metadata": {},
   "source": [
    "# industry & sector data retrieval"
   ]
  },
  {
   "cell_type": "code",
   "execution_count": null,
   "metadata": {},
   "outputs": [],
   "source": [
    "# importing\n",
    "import yfinance as yf\n",
    "import pandas as pd\n",
    "import numpy as np"
   ]
  },
  {
   "cell_type": "markdown",
   "metadata": {},
   "source": [
    "#### in order to get maximize the number of matched sector and industry information, the ticker suffix .F will be used  in the following data retrieval procedure "
   ]
  },
  {
   "cell_type": "code",
   "execution_count": null,
   "metadata": {},
   "outputs": [],
   "source": [
    "# testing with XETRAS ticker suffix .DE for Deutsche Bank\n",
    "deutsche = yf.Ticker(\"DBK.DE\")\n",
    "print(deutsche.info[\"sector\"])\n",
    "print(deutsche.info[\"industry\"])"
   ]
  },
  {
   "cell_type": "code",
   "execution_count": null,
   "metadata": {},
   "outputs": [],
   "source": [
    "# testing with XETRAS suffix .DE for Gamestop\n",
    "gme = yf.Ticker(\"GS2C.DE\")\n",
    "print(gme.info['sector'])\n",
    "print(gme.info['industry'])\n",
    "# --> ImportError: html5lib not found, please install it"
   ]
  },
  {
   "cell_type": "markdown",
   "metadata": {},
   "source": [
    "no sector and industry information for that ticker (see https://finance.yahoo.com/quote/GS2C.DE/profile?p=GS2C.DE)"
   ]
  },
  {
   "cell_type": "markdown",
   "metadata": {},
   "source": [
    "however, using the .F suffix yields information on sector and insustry (see https://finance.yahoo.com/quote/GS2C.F?p=GS2C.F&.tsrc=fin-srch)"
   ]
  },
  {
   "cell_type": "code",
   "execution_count": null,
   "metadata": {},
   "outputs": [],
   "source": [
    "# testing  with Frankfurt Stock Exchange suffix .F for Gamestop\n",
    "gme = yf.Ticker(\"GS2C.F\")\n",
    "print(gme.info['sector'])\n",
    "print(gme.info['industry'])"
   ]
  },
  {
   "cell_type": "markdown",
   "metadata": {},
   "source": [
    "#### first, the unique tickers from the dbg-pds need to be extracted"
   ]
  },
  {
   "cell_type": "code",
   "execution_count": null,
   "metadata": {},
   "outputs": [],
   "source": [
    "# extract tickers from full dbg-pds table\n",
    "# use user-specific path of the data source \n",
    "df_full = pd.read_csv(\"../data/07_17_to_01_21_full.csv\")"
   ]
  },
  {
   "cell_type": "code",
   "execution_count": null,
   "metadata": {},
   "outputs": [],
   "source": [
    "# extract unique tickers from the Mnemonic column \n",
    "tickers = df_full[\"Mnemonic\"].unique()"
   ]
  },
  {
   "cell_type": "code",
   "execution_count": null,
   "metadata": {},
   "outputs": [],
   "source": [
    "# save unique tickers as CSV file\n",
    "pd.DataFrame(tickers).to_csv(\"../data/unique_tickers.csv\", header=None, index=None)"
   ]
  },
  {
   "cell_type": "code",
   "execution_count": null,
   "metadata": {},
   "outputs": [],
   "source": [
    "# if already available, load unique tickers CSV\n",
    "df_tickers = pd.read_csv(\"../data/unique_tickers.csv\")"
   ]
  },
  {
   "cell_type": "code",
   "execution_count": null,
   "metadata": {},
   "outputs": [],
   "source": [
    "# convert unique tickers to list\n",
    "a = df_tickers.values.tolist()\n",
    "tick_list = [x for [x] in a]"
   ]
  },
  {
   "cell_type": "markdown",
   "metadata": {},
   "source": [
    "#### having the unique tickers in place, a function for the data collection needed to be formulated"
   ]
  },
  {
   "cell_type": "code",
   "execution_count": null,
   "metadata": {},
   "outputs": [],
   "source": [
    "def get_ticker_sector_industry(ticker_list, progress=False):\n",
    "    \"\"\"\n",
    "    returns a dataframe that maps tickers from a passed list to the respective sector and industry information\n",
    "    using yfinance\n",
    "    \n",
    "    :param ticker_lsit: list of ticker symbols  \n",
    "    :type ticker_list: list \n",
    "    :param progress: option to print progress information (default False)\n",
    "    :type progress: bool\n",
    "    \"\"\"\n",
    "    # creating a dataframe to store the information\n",
    "    ticker_sector_df = pd.DataFrame(columns=[\"ticker\", \"sector\", \"industry\"])\n",
    "    # using Frankfurt Stock Exchange's .F ticker suffix\n",
    "    suffix = \".F\"\n",
    "    # using NA for unavailable sector and industry information\n",
    "    na = \"NA\"\n",
    "    # loop trough list of tickers\n",
    "    for tick in ticker_list:\n",
    "        # only continue with the iteration if the ticker symbol is a string\n",
    "        if isinstance(tick, str): \n",
    "            # option to display the progress of the dataframe creation\n",
    "            if progress:\n",
    "                print(f\"{ticker_list.index(tick)+1} out of {len(ticker_list)}\")\n",
    "            # create a ticker that's readable for yfinance including the suffix\n",
    "            ticker = yf.Ticker(tick + suffix)\n",
    "            # circumvent errors for unavailable sector and industry information\n",
    "            try:\n",
    "                ticker_sector_df = ticker_sector_df.append({\"ticker\": tick,\n",
    "                                                            \"sector\": ticker.info[\"sector\"],\n",
    "                                                            \"industry\": ticker.info[\"industry\"]}, ignore_index=True)\n",
    "            # in case of errors, fill in respective cells with NA\n",
    "            except:            \n",
    "                ticker_sector_df = ticker_sector_df.append({\"ticker\": tick,\n",
    "                                                            \"sector\": na,\n",
    "                                                            \"industry\": na}, ignore_index=True)\n",
    "    return ticker_sector_df"
   ]
  },
  {
   "cell_type": "code",
   "execution_count": null,
   "metadata": {},
   "outputs": [],
   "source": [
    "# testing with small hand-picked sample list\n",
    "test_tickers = [\"ADS\", \"BAS\", \"BAYN\", \"CBK\", \"EOAN\"] \n",
    "print(get_ticker_sector_industry(test_tickers, progress=True))"
   ]
  },
  {
   "cell_type": "code",
   "execution_count": null,
   "metadata": {},
   "outputs": [],
   "source": [
    "# testing with sample of the actual list\n",
    "test_tick_list = tick_list[:20]\n",
    "print(get_ticker_sector_industry(test_tick_list,progress=True))"
   ]
  },
  {
   "cell_type": "code",
   "execution_count": null,
   "metadata": {},
   "outputs": [],
   "source": [
    "# create full mapping\n",
    "df_ticker_industry_sector = get_ticker_sector_industry(tick_list)"
   ]
  },
  {
   "cell_type": "code",
   "execution_count": null,
   "metadata": {},
   "outputs": [],
   "source": [
    "# inspect mapping\n",
    "df_ticker_industry_sector.head()"
   ]
  },
  {
   "cell_type": "code",
   "execution_count": null,
   "metadata": {},
   "outputs": [],
   "source": [
    "# save df_ticker_industry_sector as CSV file\n",
    "pd.DataFrame(df_ticker_industry_sector).to_csv(\"../data/ticker_sector_industry_mapping.csv\", index=None)"
   ]
  },
  {
   "cell_type": "code",
   "execution_count": null,
   "metadata": {},
   "outputs": [],
   "source": [
    "# loading test\n",
    "ticker_industy_sector_mapping = pd.read_csv(r\"C:\\Users\\jacob\\Google Drive\\education\\MADS @ FS\\Y1Q3\\visualising big data (vbd)\\group project\\data\\ticker_sector_industry_mapping.csv\")\n",
    "# inspect mapping\n",
    "ticker_industy_sector_mapping.head()"
   ]
  }
 ],
 "metadata": {
  "kernelspec": {
   "display_name": "Python [conda env:vbd_env] *",
   "language": "python",
   "name": "conda-env-vbd_env-py"
  },
  "language_info": {
   "codemirror_mode": {
    "name": "ipython",
    "version": 3
   },
   "file_extension": ".py",
   "mimetype": "text/x-python",
   "name": "python",
   "nbconvert_exporter": "python",
   "pygments_lexer": "ipython3",
   "version": "3.7.9"
  }
 },
 "nbformat": 4,
 "nbformat_minor": 4
}
